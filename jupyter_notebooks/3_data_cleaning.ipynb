{
  "cells": [
    {
      "cell_type": "markdown",
      "metadata": {
        "id": "0aStgWSO0E0E"
      },
      "source": [
        "# **Data Cleaning Notebook**"
      ]
    },
    {
      "cell_type": "markdown",
      "metadata": {
        "id": "1eLEkw5O0ECa"
      },
      "source": [
        "## Objectives\n",
        "\n",
        "* Check for duplicates, missing values\n",
        "* Clean the data\n",
        "* Split the data into train and test sets\n",
        "\n",
        "## Inputs\n",
        "\n",
        "* Kaggle data file - inputs/datasets/raw/house-prices/house-price/house_prices_records.csv\n",
        "* Kaggle data file - inputs/datasets/raw/house-prices/house-price/inherited_house.csv\n",
        "\n",
        "## Outputs\n",
        "\n",
        "* outputs/datasets/cleaned/TestSetCleaned.csv\n",
        "* outputs/datasets/cleaned/TrainSetCleaned.csv"
      ]
    },
    {
      "cell_type": "markdown",
      "metadata": {
        "id": "9uWZXH9LwoQg"
      },
      "source": [
        "---"
      ]
    },
    {
      "cell_type": "markdown",
      "metadata": {
        "id": "cqP-UeN-z3i2"
      },
      "source": [
        "# Change working directory"
      ]
    },
    {
      "cell_type": "markdown",
      "metadata": {},
      "source": [
        "Accessing the current directory"
      ]
    },
    {
      "cell_type": "code",
      "execution_count": null,
      "metadata": {
        "id": "wZfF_j-Bz3i4",
        "outputId": "66943449-1436-4c3d-85c7-b85f9f78349b"
      },
      "outputs": [],
      "source": [
        "import os\n",
        "current_dir = os.getcwd()\n",
        "current_dir"
      ]
    },
    {
      "cell_type": "markdown",
      "metadata": {
        "id": "9MWW8E7lz3i7"
      },
      "source": [
        "Making sure working in the child of the workspace directory"
      ]
    },
    {
      "cell_type": "code",
      "execution_count": null,
      "metadata": {
        "id": "TwHsQRWjz3i9",
        "outputId": "86849db3-cd2f-4cc5-ebb8-2d0caafa1a2c"
      },
      "outputs": [],
      "source": [
        "os.chdir('/workspaces/milestone-project-heritage-housing-issues')\n",
        "print(\"You set a new current directory\")"
      ]
    },
    {
      "cell_type": "markdown",
      "metadata": {
        "id": "M_xPk_Ijz3i-"
      },
      "source": [
        "Confirm the new current directory"
      ]
    },
    {
      "cell_type": "code",
      "execution_count": null,
      "metadata": {
        "id": "vz3S-_kjz3jA",
        "outputId": "00b79ae4-75d0-4a96-d193-ac9ef9847ea2"
      },
      "outputs": [],
      "source": [
        "current_dir = os.getcwd()\n",
        "current_dir"
      ]
    },
    {
      "cell_type": "markdown",
      "metadata": {},
      "source": [
        "---"
      ]
    },
    {
      "cell_type": "markdown",
      "metadata": {},
      "source": [
        "# Explore the Kaggle Data"
      ]
    },
    {
      "cell_type": "markdown",
      "metadata": {},
      "source": [
        "* Load Kaggle Data"
      ]
    },
    {
      "cell_type": "code",
      "execution_count": null,
      "metadata": {},
      "outputs": [],
      "source": [
        "import pandas as pd\n",
        "allowed_nans = ['', '#N/A', '#N/A N/A', '#NA', '-1.#IND', '-1.#QNAN',\n",
        "                '-NaN', '-nan', '1.#IND', '1.#QNAN', '<NA>', 'N/A', 'NA',\n",
        "                'NULL', 'NaN', 'n/a', 'nan', 'null']\n",
        "df = pd.read_csv(\n",
        "    f\"inputs/datasets/raw/house-price-20211124T154130Z-001/house-price/\"\n",
        "    f\"house_prices_records.csv\", na_values=allowed_nans, keep_default_na=False)\n",
        "df.head()"
      ]
    },
    {
      "cell_type": "markdown",
      "metadata": {},
      "source": [
        "* Change object type data to numerical data"
      ]
    },
    {
      "cell_type": "code",
      "execution_count": null,
      "metadata": {},
      "outputs": [],
      "source": [
        "df['BsmtExposure'] = df['BsmtExposure'].replace(\n",
        "    {'None': 0, 'No': 1, 'Mn': 2, 'Av': 3, 'Gd': 4})\n",
        "df['BsmtFinType1'] = df['BsmtFinType1'].replace(\n",
        "    {'None': 0, 'Unf': 1, 'LwQ': 2, 'BLQ': 3, 'Rec': 4, 'ALQ': 5, 'GLQ': 6})\n",
        "df['GarageFinish'] = df['GarageFinish'].replace(\n",
        "    {'None': 0, 'Unf': 1, 'RFn': 2, 'Fin': 3})\n",
        "df['KitchenQual'] = df['KitchenQual'].replace(\n",
        "    {'Po': 0, 'Fa': 1, 'TA': 2, 'Gd': 3, 'Ex': 4})"
      ]
    },
    {
      "cell_type": "markdown",
      "metadata": {},
      "source": [
        "* Check the distribution and shape of a variable with missing data"
      ]
    },
    {
      "cell_type": "code",
      "execution_count": null,
      "metadata": {},
      "outputs": [],
      "source": [
        "vars_with_missing_data = df.columns[df.isna().sum() > 0].to_list()\n",
        "vars_with_missing_data"
      ]
    },
    {
      "cell_type": "markdown",
      "metadata": {},
      "source": [
        "* Run Profile Report"
      ]
    },
    {
      "cell_type": "code",
      "execution_count": null,
      "metadata": {},
      "outputs": [],
      "source": [
        "from ydata_profiling import ProfileReport\n",
        "pandas_report = ProfileReport(df=df, minimal=True)\n",
        "pandas_report.to_notebook_iframe()"
      ]
    },
    {
      "cell_type": "markdown",
      "metadata": {},
      "source": [
        "* Check for duplicated data"
      ]
    },
    {
      "cell_type": "code",
      "execution_count": null,
      "metadata": {},
      "outputs": [],
      "source": [
        "df[df.duplicated()]"
      ]
    },
    {
      "cell_type": "markdown",
      "metadata": {},
      "source": [
        "* Check for missing values"
      ]
    },
    {
      "cell_type": "code",
      "execution_count": null,
      "metadata": {},
      "outputs": [],
      "source": [
        "df.isnull().sum()"
      ]
    },
    {
      "cell_type": "markdown",
      "metadata": {},
      "source": [
        "---"
      ]
    },
    {
      "cell_type": "markdown",
      "metadata": {},
      "source": [
        "## Deciding How to Handle Missing Data"
      ]
    },
    {
      "cell_type": "markdown",
      "metadata": {},
      "source": [
        "### 2ndFlrSF "
      ]
    },
    {
      "cell_type": "markdown",
      "metadata": {},
      "source": [
        "* 86 missing values - 5.9% of the data\n",
        "* Missing data could be becasue there is no second floor\n",
        "* 53.5% of the data is 0\n",
        "* I will take from this that the missing data also means there is no second floor and so replace the missing values with 0"
      ]
    },
    {
      "cell_type": "code",
      "execution_count": null,
      "metadata": {},
      "outputs": [],
      "source": [
        "df['2ndFlrSF'] = df['2ndFlrSF'].fillna(0)"
      ]
    },
    {
      "cell_type": "markdown",
      "metadata": {},
      "source": [
        "### BedroomAbvGr"
      ]
    },
    {
      "cell_type": "markdown",
      "metadata": {},
      "source": [
        "* 99 values are missing - 6.8% of the data\n",
        "* Only 6 entries, or 0.4% of the data, is 0 so it seems unlikely that the missing data would be due to there being no bedrooms above grade\n",
        "* 51.3% of the data is 3, the mean of the data is 2.87 and the median is 3\n",
        "* I will replace the missing data with the median value"
      ]
    },
    {
      "cell_type": "code",
      "execution_count": null,
      "metadata": {},
      "outputs": [],
      "source": [
        "df['BedroomAbvGr'] = df['BedroomAbvGr'].fillna(3)"
      ]
    },
    {
      "cell_type": "markdown",
      "metadata": {},
      "source": [
        "### BsmtFinType1"
      ]
    },
    {
      "cell_type": "markdown",
      "metadata": {},
      "source": [
        "* There are 145 missing values - 9.9% of the data\n",
        "* Some of these may be due to there not being a basement and there is a column that details if a basement is present I could use this to replace these NaN's with 0 which represents 'None'but, for simplicity, I will replace the other missing values with the mode value of 1, which represents 'unf'"
      ]
    },
    {
      "cell_type": "code",
      "execution_count": null,
      "metadata": {},
      "outputs": [],
      "source": [
        "import numpy as np\n",
        "\n",
        "df['BsmtFinType1'] = df['BsmtFinType1'].fillna(0)"
      ]
    },
    {
      "cell_type": "markdown",
      "metadata": {},
      "source": [
        "### EnclosedPorch "
      ]
    },
    {
      "cell_type": "markdown",
      "metadata": {},
      "source": [
        "* There are 1324 values missing - 90.7% of the data\n",
        "* Missing data could be because there is no enclosed porch. As there is no other column relating to an enclosed porch there is no way of testing this hypothesis\n",
        "* There is no evidence of correlation between SalePrice and EnclosedPorch\n",
        "* Due to the high volume of missing data I will drop this column"
      ]
    },
    {
      "cell_type": "code",
      "execution_count": null,
      "metadata": {},
      "outputs": [],
      "source": [
        "df.drop(columns=['EnclosedPorch'], inplace=True)"
      ]
    },
    {
      "cell_type": "markdown",
      "metadata": {},
      "source": [
        "### GarageFinish"
      ]
    },
    {
      "cell_type": "markdown",
      "metadata": {},
      "source": [
        "* There are 162 missing values - 11.1% of the data\n",
        "* Some of these these may be due to there not being a garage. I could replace these values with 'None' using the GarageArea column (using the logic there is no garage if the GarageArea is 0) but, for simplicity, I will replace the other missing values with the mode value, which is 1. This represents'Unf'"
      ]
    },
    {
      "cell_type": "code",
      "execution_count": null,
      "metadata": {},
      "outputs": [],
      "source": [
        "df['GarageFinish'] = df['GarageFinish'].fillna(0)"
      ]
    },
    {
      "cell_type": "markdown",
      "metadata": {},
      "source": [
        "### GarageYrBlt "
      ]
    },
    {
      "cell_type": "markdown",
      "metadata": {},
      "source": [
        "* There are 81 missing entries - 5.5% of the data\n",
        "* I would expect there to be a correlation between the year the property was built and the year the garage was built as it would be common for these to be built at the same time"
      ]
    },
    {
      "cell_type": "code",
      "execution_count": null,
      "metadata": {},
      "outputs": [],
      "source": [
        "df_year = df[['YearBuilt', 'GarageYrBlt']]"
      ]
    },
    {
      "cell_type": "code",
      "execution_count": null,
      "metadata": {},
      "outputs": [],
      "source": [
        "df_year.corr(method='spearman')"
      ]
    },
    {
      "cell_type": "code",
      "execution_count": null,
      "metadata": {},
      "outputs": [],
      "source": [
        "df_year.corr(method='pearson')"
      ]
    },
    {
      "cell_type": "markdown",
      "metadata": {},
      "source": [
        "* There is a high correlation between GarageYrBly and YearBuilt. I will explore this further. I would expect there to be less correlation in the earlier years due to cars not having been invented or not being common. I will set the limit to 0.6 as this is when there stops being a strong correlation"
      ]
    },
    {
      "cell_type": "code",
      "execution_count": null,
      "metadata": {},
      "outputs": [],
      "source": [
        "df_filtered_spearman = df_year[df_year['YearBuilt'] < 1988]\n",
        "df_filtered_spearman.corr(method='spearman')"
      ]
    },
    {
      "cell_type": "markdown",
      "metadata": {},
      "source": [
        "The spearman coefficient falls below 0.6 when the year is changed to be filtered at below 1987"
      ]
    },
    {
      "cell_type": "code",
      "execution_count": null,
      "metadata": {},
      "outputs": [],
      "source": [
        "df_filtered_pearson = df_year[df_year['YearBuilt'] < 1995]\n",
        "df_filtered_pearson.corr(method='pearson')"
      ]
    },
    {
      "cell_type": "markdown",
      "metadata": {},
      "source": [
        "The pearson coefficient falls below 0.6 when the year is changed to be filtered at below 1994"
      ]
    },
    {
      "cell_type": "markdown",
      "metadata": {},
      "source": [
        "* Some of these these may be due to there not being a garage. I will replace these values with 'None' using the GarageArea column (again using the logic there is no garage if the GarageArea is 0)"
      ]
    },
    {
      "cell_type": "code",
      "execution_count": null,
      "metadata": {},
      "outputs": [],
      "source": [
        "df[\"GarageYrBlt\"] = np.where(\n",
        "    df[\"GarageArea\"] == 0, df['GarageYrBlt'].fillna(0), None)"
      ]
    },
    {
      "cell_type": "markdown",
      "metadata": {},
      "source": [
        "* A strong correlation between GarageYrBlt and YearBuilt is shown for those properties built after 1995 for Pearson and 1988 for Spearman\n",
        "* For properties built after 1995 I will replace the missing GarageYrBlt values with the YearBuilt values\n",
        "* For properties built prior to 1995 I will replace the missing values with the mean of GarageYrBlt - this is 1979"
      ]
    },
    {
      "cell_type": "code",
      "execution_count": null,
      "metadata": {},
      "outputs": [],
      "source": [
        "df['GarageYrBlt'] = np.where(\n",
        "    df['YearBuilt'] > 1995, df['GarageYrBlt'].fillna(\n",
        "        df['YearBuilt']), df['GarageYrBlt'].fillna(1979))"
      ]
    },
    {
      "cell_type": "markdown",
      "metadata": {},
      "source": [
        "### LotFrontage"
      ]
    },
    {
      "cell_type": "markdown",
      "metadata": {},
      "source": [
        "* There are 259 missing values - 17.7% of the data\n",
        "* I will replace missing values with the mean, which is 70"
      ]
    },
    {
      "cell_type": "code",
      "execution_count": null,
      "metadata": {},
      "outputs": [],
      "source": [
        "df['LotFrontage'] = df['LotFrontage'].fillna(70)"
      ]
    },
    {
      "cell_type": "markdown",
      "metadata": {},
      "source": [
        "### MasMasVnrArea"
      ]
    },
    {
      "cell_type": "markdown",
      "metadata": {},
      "source": [
        "* There are 8 missing values - 0.5%\n",
        "* 59% of values are 0 and 0 is also the median value so, I will replace missing values with 0"
      ]
    },
    {
      "cell_type": "code",
      "execution_count": null,
      "metadata": {},
      "outputs": [],
      "source": [
        "df['MasVnrArea'] = df['MasVnrArea'].fillna(0)"
      ]
    },
    {
      "cell_type": "markdown",
      "metadata": {},
      "source": [
        "### WoodDeckSF"
      ]
    },
    {
      "cell_type": "markdown",
      "metadata": {},
      "source": [
        "* There are 1305 missing values - 89.4% of the data\n",
        "* There is no evidence of correlation between SalePrice and WoodDeckSF\n",
        "* Due to the volume of missing data I will drop this column"
      ]
    },
    {
      "cell_type": "code",
      "execution_count": null,
      "metadata": {},
      "outputs": [],
      "source": [
        "df.drop(columns=['WoodDeckSF'], inplace=True)"
      ]
    },
    {
      "cell_type": "code",
      "execution_count": null,
      "metadata": {},
      "outputs": [],
      "source": [
        "df.info()"
      ]
    },
    {
      "cell_type": "markdown",
      "metadata": {},
      "source": [
        "* Rename columns with titles starting in a number due to errors running the code to check if the data type is int"
      ]
    },
    {
      "cell_type": "code",
      "execution_count": null,
      "metadata": {},
      "outputs": [],
      "source": [
        "df = df.rename(columns={'1stFlrSF': 'FirFlrSF', '2ndFlrSF': 'SecFlrSF'})"
      ]
    },
    {
      "cell_type": "markdown",
      "metadata": {},
      "source": [
        "* Check if any of the columns that are type float are actually integers"
      ]
    },
    {
      "cell_type": "code",
      "execution_count": null,
      "metadata": {},
      "outputs": [],
      "source": [
        "df.MasVnrArea.apply(float.is_integer).all()\n",
        "df.LotFrontage.apply(float.is_integer).all()\n",
        "df.GarageYrBlt.apply(float.is_integer).all()\n",
        "df.BedroomAbvGr.apply(float.is_integer).all()\n",
        "df.SecFlrSF.apply(float.is_integer).all()\n",
        "df.BsmtFinType1.apply(float.is_integer).all()\n",
        "df.GarageFinish.apply(float.is_integer).all()"
      ]
    },
    {
      "cell_type": "markdown",
      "metadata": {},
      "source": [
        "* They all are so, change all columns of type float, in original dataframe, to integers"
      ]
    },
    {
      "cell_type": "code",
      "execution_count": null,
      "metadata": {},
      "outputs": [],
      "source": [
        "floats = [\n",
        "    'MasVnrArea', 'LotFrontage', 'GarageYrBlt',\n",
        "    'BedroomAbvGr', 'SecFlrSF', 'BsmtFinType1',\n",
        "    'GarageFinish']\n",
        "df[floats] = df[floats].astype(int)"
      ]
    },
    {
      "cell_type": "code",
      "execution_count": null,
      "metadata": {},
      "outputs": [],
      "source": [
        "df.info()"
      ]
    },
    {
      "cell_type": "markdown",
      "metadata": {},
      "source": [
        "---"
      ]
    },
    {
      "cell_type": "markdown",
      "metadata": {},
      "source": [
        "# Split Train and Test Set"
      ]
    },
    {
      "cell_type": "code",
      "execution_count": null,
      "metadata": {},
      "outputs": [],
      "source": [
        "from sklearn.model_selection import train_test_split\n",
        "TrainSet, TestSet, _, __ = train_test_split(\n",
        "                                        df,\n",
        "                                        df['SalePrice'],\n",
        "                                        test_size=0.2,\n",
        "                                        random_state=0)"
      ]
    },
    {
      "cell_type": "markdown",
      "metadata": {},
      "source": [
        "---"
      ]
    },
    {
      "cell_type": "markdown",
      "metadata": {},
      "source": [
        "# Push files to Repo"
      ]
    },
    {
      "cell_type": "code",
      "execution_count": null,
      "metadata": {},
      "outputs": [],
      "source": [
        "import os\n",
        "try:\n",
        "    os.makedirs(name='outputs/datasets/cleaned')\n",
        "except Exception as e:\n",
        "    print(e)"
      ]
    },
    {
      "cell_type": "markdown",
      "metadata": {},
      "source": [
        "## Train Set"
      ]
    },
    {
      "cell_type": "code",
      "execution_count": null,
      "metadata": {},
      "outputs": [],
      "source": [
        "TrainSet.to_csv(\"outputs/datasets/cleaned/TrainSetCleaned.csv\", index=False)"
      ]
    },
    {
      "cell_type": "markdown",
      "metadata": {},
      "source": [
        "## Test Set"
      ]
    },
    {
      "cell_type": "code",
      "execution_count": null,
      "metadata": {},
      "outputs": [],
      "source": [
        "TestSet.to_csv(\"outputs/datasets/cleaned/TestSetCleaned.csv\", index=False)"
      ]
    }
  ],
  "metadata": {
    "accelerator": "GPU",
    "colab": {
      "name": "Data Practitioner Jupyter Notebook.ipynb",
      "provenance": [],
      "toc_visible": true
    },
    "interpreter": {
      "hash": "8b8334dab9339717f727a1deaf837b322d7a41c20d15cc86be99a8e69ceec8ce"
    },
    "kernelspec": {
      "display_name": "Python 3.8.12 64-bit ('3.8.12': pyenv)",
      "name": "python3"
    },
    "language_info": {
      "codemirror_mode": {
        "name": "ipython",
        "version": 3
      },
      "file_extension": ".py",
      "mimetype": "text/x-python",
      "name": "python",
      "nbconvert_exporter": "python",
      "pygments_lexer": "ipython3",
      "version": "3.8.12"
    },
    "orig_nbformat": 2
  },
  "nbformat": 4,
  "nbformat_minor": 2
}
